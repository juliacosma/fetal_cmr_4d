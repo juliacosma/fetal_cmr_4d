{
 "cells": [
  {
   "cell_type": "code",
   "execution_count": 3,
   "metadata": {},
   "outputs": [
    {
     "name": "stdout",
     "output_type": "stream",
     "text": [
      "Running 4D Flow cine Paraview script ...\n",
      "Done ...\n"
     ]
    }
   ],
   "source": [
    "print(\"Running 4D Flow cine Paraview script ...\")\n",
    "\n",
    "pvpypath='C:\\\\Program Files\\\\ParaView 5.4.1-Qt5-OpenGL2-Windows-64bit\\\\bin\\\\pvpython.exe'\n",
    "\n",
    "import subprocess\n",
    "subprocess.call([pvpypath, 'C:\\\\Users\\\\tr17\\\\Documents\\\\CODE_Projects\\\\fetal_cmr_4d\\\\paraview\\\\fcmr_4dflow_make_vector_vol.py'])\n",
    "\n",
    "print(\"Done ...\")"
   ]
  },
  {
   "cell_type": "code",
   "execution_count": null,
   "metadata": {},
   "outputs": [],
   "source": []
  },
  {
   "cell_type": "code",
   "execution_count": null,
   "metadata": {},
   "outputs": [],
   "source": []
  },
  {
   "cell_type": "code",
   "execution_count": 6,
   "metadata": {},
   "outputs": [],
   "source": [
    "fcmrNum = 189\n",
    "foldExt = '_hrh_fullRecon'\n",
    "pvStateExt = ''\n",
    "velDir = '\\\\vel_vol_4d'\n",
    "# velDir = '\\\\vel_vol_trans_4d'\n",
    "\n",
    "# pvFold = '\\\\paraview' + '\\\\'\n",
    "pvFold = '\\\\paraview_polyCorr' + '\\\\'\n",
    "# pvFold = '\\\\paraview_polyCorr_aorta_LV_RV_LOT_ROT_LA_RA_IVC_SVC_PA_DA' + '\\\\'\n",
    "\n",
    "fcmrDir = 'E:\\\\Users\\\\tr17\\\\Documents\\\\Projects\\\\PC_Fetal_CMR\\\\Data\\\\4D_Flow_Paper\\\\fcmr'\n",
    "path = fcmrDir + str(fcmrNum) + foldExt + velDir + pvFold\n",
    "\n",
    "pvStateFilename = 'fcmr' + str(fcmrNum) + '_' + pvStateExt + 'paraview.pvsm'\n",
    "\n",
    "filenameCine = 'cine_vol_masked_t'\n",
    "filenameVelVol = 'vel_vol_masked_VxVy-Vz_t'\n",
    "numFrames = 25"
   ]
  },
  {
   "cell_type": "code",
   "execution_count": 7,
   "metadata": {},
   "outputs": [
    {
     "name": "stdout",
     "output_type": "stream",
     "text": [
      "\\paraview_polyCorr\\\n",
      "E:\\Users\\tr17\\Documents\\Projects\\PC_Fetal_CMR\\Data\\4D_Flow_Paper\\fcmr189_hrh_fullRecon\\vel_vol_4d\\paraview_polyCorr\\\n",
      "fcmr189_paraview.pvsm\n",
      "E:\\Users\\tr17\\Documents\\Projects\\PC_Fetal_CMR\\Data\\4D_Flow_Paper\\fcmr189\\vel_vol_4d\\paraview_polyCorr\\fcmr189_paraview.pvsm\n"
     ]
    }
   ],
   "source": [
    "print(pvFold)\n",
    "\n",
    "print(path)\n",
    "print(pvStateFilename)\n",
    "\n",
    "print(fcmrDir + str(fcmrNum) + velDir + pvFold + pvStateFilename)"
   ]
  }
 ],
 "metadata": {
  "kernelspec": {
   "display_name": "Python 3",
   "language": "python",
   "name": "python3"
  },
  "language_info": {
   "codemirror_mode": {
    "name": "ipython",
    "version": 3
   },
   "file_extension": ".py",
   "mimetype": "text/x-python",
   "name": "python",
   "nbconvert_exporter": "python",
   "pygments_lexer": "ipython3",
   "version": "3.6.5"
  }
 },
 "nbformat": 4,
 "nbformat_minor": 2
}
